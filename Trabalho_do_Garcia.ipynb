{
  "nbformat": 4,
  "nbformat_minor": 0,
  "metadata": {
    "colab": {
      "provenance": [],
      "authorship_tag": "ABX9TyMpeCz0BQTHH1dZ9JDSiq5w",
      "include_colab_link": true
    },
    "kernelspec": {
      "name": "python3",
      "display_name": "Python 3"
    },
    "language_info": {
      "name": "python"
    }
  },
  "cells": [
    {
      "cell_type": "markdown",
      "metadata": {
        "id": "view-in-github",
        "colab_type": "text"
      },
      "source": [
        "<a href=\"https://colab.research.google.com/github/Gustavo-Pinho/Similaridades-de-Cosseno/blob/main/Trabalho_do_Garcia.ipynb\" target=\"_parent\"><img src=\"https://colab.research.google.com/assets/colab-badge.svg\" alt=\"Open In Colab\"/></a>"
      ]
    },
    {
      "cell_type": "code",
      "source": [
        "import pandas as pd\n",
        "from sklearn.feature_extraction.text import CountVectorizer\n",
        "from sklearn.metrics.pairwise import cosine_similarity\n",
        "\n",
        "# Read the dataset\n",
        "netflix_movies = pd.read_csv('/content/n_movies.csv')\n",
        "\n",
        "# Select only the relevant columns\n",
        "netflix_movies = netflix_movies[['title', 'certificate', 'description', 'genre']].dropna()\n",
        "\n",
        "# Vectorize the 'certificate', 'description', and 'genre' columns\n",
        "vectorizer = CountVectorizer().fit_transform(netflix_movies['certificate'] + netflix_movies['description'] + netflix_movies['genre'])\n",
        "\n",
        "# Compute the cosine similarity matrix\n",
        "cosine_similarities = cosine_similarity(vectorizer)\n",
        "\n",
        "# Select a reference movie and compute its similarities\n",
        "reference_movie = input('Enter the name of the reference movie: ')\n",
        "reference_index = netflix_movies[netflix_movies['title'] == reference_movie].index[0]\n",
        "similarities = cosine_similarities[reference_index]\n",
        "\n",
        "# Find the top 10 most similar movies\n",
        "similar_movies_indices = similarities.argsort()[-11:-1][::-1]\n",
        "similar_movies = netflix_movies.iloc[similar_movies_indices]\n",
        "print('Recommended movies for', reference_movie, ':')\n",
        "print(similar_movies)\n",
        "\n"
      ],
      "metadata": {
        "colab": {
          "base_uri": "https://localhost:8080/"
        },
        "id": "aAZs-3aGwRg_",
        "outputId": "c6ac55c7-3846-4e7c-a070-a978e52285c7"
      },
      "execution_count": null,
      "outputs": [
        {
          "output_type": "stream",
          "name": "stdout",
          "text": [
            "Enter the name of the reference movie: Peaky Blinders\n",
            "Recommended movies for Peaky Blinders :\n",
            "                     title certificate  \\\n",
            "19     Fate: The Winx Saga       TV-MA   \n",
            "8341             Supergirl       TV-PG   \n",
            "8189                Bleach       TV-14   \n",
            "8550  Star Trek: Discovery       TV-MA   \n",
            "1713               Work It       TV-14   \n",
            "8244                Bleach       TV-14   \n",
            "93          Look Both Ways       TV-14   \n",
            "9185       Black Lightning       TV-14   \n",
            "8209                Bleach       TV-14   \n",
            "107             Smallville       TV-PG   \n",
            "\n",
            "                                            description  \\\n",
            "19    A live-action adaptation of Nickelodeon's Winx...   \n",
            "8341  Lex Luthor descends upon Washington, D.C. and ...   \n",
            "8189  Ichigo runs into Rukia at school, where she's ...   \n",
            "8550  Finally reunited, Burnham and the U.S.S. Disco...   \n",
            "1713  When Quinn Ackerman's admission to the college...   \n",
            "8244  Orihime decides that the quickest way to get t...   \n",
            "93    On the eve of her college graduation, Natalie'...   \n",
            "9185  Jefferson faces new challenges due to the shoc...   \n",
            "8209  In the Soul Society, Rukia learns that in 25 d...   \n",
            "107   A young Clark Kent struggles to find his place...   \n",
            "\n",
            "                             genre  \n",
            "19        Action, Adventure, Drama  \n",
            "8341      Action, Adventure, Drama  \n",
            "8189  Animation, Action, Adventure  \n",
            "8550      Action, Adventure, Drama  \n",
            "1713                 Comedy, Music  \n",
            "8244  Animation, Action, Adventure  \n",
            "93          Comedy, Drama, Romance  \n",
            "9185         Action, Drama, Sci-Fi  \n",
            "8209  Animation, Action, Adventure  \n",
            "107       Action, Adventure, Drama  \n"
          ]
        }
      ]
    }
  ]
}